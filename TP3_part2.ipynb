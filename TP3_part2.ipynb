{
 "cells": [
  {
   "cell_type": "markdown",
   "metadata": {},
   "source": [
    "# TP3 part 2"
   ]
  },
  {
   "cell_type": "code",
   "execution_count": 3,
   "metadata": {},
   "outputs": [],
   "source": [
    "import pickle\n",
    "import streamlit as st\n",
    "from sklearn.feature_extraction.text import TfidfVectorizer\n",
    "from sklearn.metrics.pairwise import linear_kernel\n",
    "import spacy"
   ]
  },
  {
   "cell_type": "code",
   "execution_count": 4,
   "metadata": {},
   "outputs": [
    {
     "ename": "FileNotFoundError",
     "evalue": "[Errno 2] No such file or directory: 'CNNArticles'",
     "output_type": "error",
     "traceback": [
      "\u001b[0;31m---------------------------------------------------------------------------\u001b[0m",
      "\u001b[0;31mFileNotFoundError\u001b[0m                         Traceback (most recent call last)",
      "\u001b[1;32m/Users/kiouloueleonor/Documents/Ecole/A5/Machine_Learning_for_NLP/TP3/TP3_part2.ipynb Cellule 3\u001b[0m line \u001b[0;36m<cell line: 19>\u001b[0;34m()\u001b[0m\n\u001b[1;32m     <a href='vscode-notebook-cell:/Users/kiouloueleonor/Documents/Ecole/A5/Machine_Learning_for_NLP/TP3/TP3_part2.ipynb#W2sZmlsZQ%3D%3D?line=14'>15</a>\u001b[0m     abstracts \u001b[39m=\u001b[39m articlesCl\n\u001b[1;32m     <a href='vscode-notebook-cell:/Users/kiouloueleonor/Documents/Ecole/A5/Machine_Learning_for_NLP/TP3/TP3_part2.ipynb#W2sZmlsZQ%3D%3D?line=16'>17</a>\u001b[0m     \u001b[39mreturn\u001b[39;00m articles, abstracts\n\u001b[0;32m---> <a href='vscode-notebook-cell:/Users/kiouloueleonor/Documents/Ecole/A5/Machine_Learning_for_NLP/TP3/TP3_part2.ipynb#W2sZmlsZQ%3D%3D?line=18'>19</a>\u001b[0m articles, abstracts \u001b[39m=\u001b[39m loadCNN()\n",
      "\u001b[1;32m/Users/kiouloueleonor/Documents/Ecole/A5/Machine_Learning_for_NLP/TP3/TP3_part2.ipynb Cellule 3\u001b[0m line \u001b[0;36mloadCNN\u001b[0;34m()\u001b[0m\n\u001b[1;32m      <a href='vscode-notebook-cell:/Users/kiouloueleonor/Documents/Ecole/A5/Machine_Learning_for_NLP/TP3/TP3_part2.ipynb#W2sZmlsZQ%3D%3D?line=0'>1</a>\u001b[0m \u001b[39mdef\u001b[39;00m \u001b[39mloadCNN\u001b[39m():\n\u001b[0;32m----> <a href='vscode-notebook-cell:/Users/kiouloueleonor/Documents/Ecole/A5/Machine_Learning_for_NLP/TP3/TP3_part2.ipynb#W2sZmlsZQ%3D%3D?line=1'>2</a>\u001b[0m     file \u001b[39m=\u001b[39m \u001b[39mopen\u001b[39;49m(\u001b[39m\"\u001b[39;49m\u001b[39mCNNArticles\u001b[39;49m\u001b[39m\"\u001b[39;49m, \u001b[39m'\u001b[39;49m\u001b[39mrb\u001b[39;49m\u001b[39m'\u001b[39;49m)\n\u001b[1;32m      <a href='vscode-notebook-cell:/Users/kiouloueleonor/Documents/Ecole/A5/Machine_Learning_for_NLP/TP3/TP3_part2.ipynb#W2sZmlsZQ%3D%3D?line=2'>3</a>\u001b[0m     articles \u001b[39m=\u001b[39m pickle\u001b[39m.\u001b[39mload(file)\n\u001b[1;32m      <a href='vscode-notebook-cell:/Users/kiouloueleonor/Documents/Ecole/A5/Machine_Learning_for_NLP/TP3/TP3_part2.ipynb#W2sZmlsZQ%3D%3D?line=3'>4</a>\u001b[0m     file \u001b[39m=\u001b[39m \u001b[39mopen\u001b[39m(\u001b[39m\"\u001b[39m\u001b[39mCNNGold\u001b[39m\u001b[39m\"\u001b[39m, \u001b[39m'\u001b[39m\u001b[39mrb\u001b[39m\u001b[39m'\u001b[39m)\n",
      "\u001b[0;31mFileNotFoundError\u001b[0m: [Errno 2] No such file or directory: 'CNNArticles'"
     ]
    }
   ],
   "source": [
    "def loadCNN():\n",
    "    file = open(\"CNNArticles\", 'rb')\n",
    "    articles = pickle.load(file)\n",
    "    file = open(\"CNNGold\", 'rb')\n",
    "    abstracts = pickle.load(file)\n",
    "\n",
    "    articlesCl = []\n",
    "    for article in articles:\n",
    "        articlesCl.append(article.replace(\"”\", \"\").rstrip(\"\\n\"))\n",
    "    articles = articlesCl\n",
    "\n",
    "    articlesCl = []\n",
    "    for article in abstracts:\n",
    "        articlesCl.append(article.replace(\"”\", \"\").rstrip(\"\\n\"))\n",
    "    abstracts = articlesCl\n",
    "\n",
    "    return articles, abstracts\n",
    "\n",
    "articles, abstracts = loadCNN()"
   ]
  },
  {
   "cell_type": "code",
   "execution_count": null,
   "metadata": {},
   "outputs": [],
   "source": [
    "if st.button(\"Retrieve Documents\"):\n",
    "    # Preprocess the summary input\n",
    "    summary_tfidf = tfidf_vectorizer.transform([summary_input])\n",
    "\n",
    "    # Calculate cosine similarities\n",
    "    cosine_similarities = linear_kernel(summary_tfidf, tfidf_matrix).flatten()\n",
    "\n",
    "    # Create a list of (document_index, cosine_similarity_score) tuples\n",
    "    document_scores = [(i, score) for i, score in enumerate(cosine_similarities)]\n",
    "\n",
    "    # Sort documents by cosine similarity in descending order\n",
    "    ranked_documents = sorted(document_scores, key=lambda x: x[1], reverse=True)\n",
    "\n",
    "    st.header(\"Ranked Documents:\")\n",
    "    for i, (document_index, score) in enumerate(ranked_documents[:10]):\n",
    "        st.write(f\"Rank {i + 1}: Document {document_index}, Similarity Score: {score:.4f}\")\n",
    "\n",
    "    # Get the index of the document with the highest score\n",
    "    highest_score_index = ranked_documents[0][0]\n",
    "\n",
    "    # Display the content of the highest-ranked document\n",
    "    st.header(\"Content of the Highest-Ranked Document:\")\n",
    "    st.text(articles[highest_score_index])\n",
    "\n",
    "    # Extract and display keywords from the highest-ranked document\n",
    "    document_text = articles[highest_score_index]\n",
    "    \n",
    "    # Load the spaCy language model\n",
    "    nlp = spacy.load(\"en_core_web_sm\")\n",
    "\n",
    "    # Function to extract and highlight keywords\n",
    "    def extract_and_highlight_keywords(document_text):\n",
    "        # Process the document text with spaCy\n",
    "        doc = nlp(document_text)\n",
    "\n",
    "        # Extract keywords (in this example, we're using nouns as keywords)\n",
    "        keywords = [token.text for token in doc if token.pos_ == \"NOUN\"]\n",
    "\n",
    "        return keywords\n",
    "\n",
    "    # Extract and display keywords\n",
    "    extracted_keywords = extract_and_highlight_keywords(document_text)\n",
    "    st.header(\"Keywords from the Highest-Ranked Document:\")\n",
    "    st.text(extracted_keywords)"
   ]
  }
 ],
 "metadata": {
  "kernelspec": {
   "display_name": "base",
   "language": "python",
   "name": "python3"
  },
  "language_info": {
   "codemirror_mode": {
    "name": "ipython",
    "version": 3
   },
   "file_extension": ".py",
   "mimetype": "text/x-python",
   "name": "python",
   "nbconvert_exporter": "python",
   "pygments_lexer": "ipython3",
   "version": "3.9.13"
  }
 },
 "nbformat": 4,
 "nbformat_minor": 2
}
