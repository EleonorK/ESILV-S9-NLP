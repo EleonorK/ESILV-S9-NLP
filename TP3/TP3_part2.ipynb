{
 "cells": [
  {
   "cell_type": "markdown",
   "metadata": {},
   "source": [
    "# TP3 part 2"
   ]
  },
  {
   "cell_type": "code",
   "execution_count": 1,
   "metadata": {},
   "outputs": [
    {
     "name": "stderr",
     "output_type": "stream",
     "text": [
      "/opt/homebrew/Caskroom/miniconda/base/lib/python3.9/site-packages/scipy/__init__.py:146: UserWarning: A NumPy version >=1.16.5 and <1.23.0 is required for this version of SciPy (detected version 1.23.0\n",
      "  warnings.warn(f\"A NumPy version >={np_minversion} and <{np_maxversion}\"\n"
     ]
    }
   ],
   "source": [
    "import pickle\n",
    "import streamlit as st\n",
    "from sklearn.feature_extraction.text import TfidfVectorizer\n",
    "from sklearn.metrics.pairwise import linear_kernel\n",
    "import spacy"
   ]
  },
  {
   "cell_type": "code",
   "execution_count": 3,
   "metadata": {},
   "outputs": [],
   "source": [
    "def loadCNN():\n",
    "    file = open(\"/Users/kiouloueleonor/Documents/Ecole/A5/Machine_Learning_for_NLP/TD/TP3/CNN/CNNArticles\", 'rb')\n",
    "    articles = pickle.load(file)\n",
    "    file = open(\"/Users/kiouloueleonor/Documents/Ecole/A5/Machine_Learning_for_NLP/TD/TP3/CNN/CNNGold\", 'rb')\n",
    "    abstracts = pickle.load(file)\n",
    "\n",
    "    articlesCl = []\n",
    "    for article in articles:\n",
    "        articlesCl.append(article.replace(\"”\", \"\").rstrip(\"\\n\"))\n",
    "    articles = articlesCl\n",
    "\n",
    "    articlesCl = []\n",
    "    for article in abstracts:\n",
    "        articlesCl.append(article.replace(\"”\", \"\").rstrip(\"\\n\"))\n",
    "    abstracts = articlesCl\n",
    "\n",
    "    return articles, abstracts\n",
    "\n",
    "articles, abstracts = loadCNN()"
   ]
  },
  {
   "cell_type": "code",
   "execution_count": 4,
   "metadata": {},
   "outputs": [
    {
     "name": "stderr",
     "output_type": "stream",
     "text": [
      "2023-12-01 17:47:14.148 \n",
      "  \u001b[33m\u001b[1mWarning:\u001b[0m to view this Streamlit app on a browser, run it with the following\n",
      "  command:\n",
      "\n",
      "    streamlit run /opt/homebrew/Caskroom/miniconda/base/lib/python3.9/site-packages/ipykernel_launcher.py [ARGUMENTS]\n"
     ]
    }
   ],
   "source": [
    "if st.button(\"Retrieve Documents\"):\n",
    "    # Preprocess the summary input\n",
    "    summary_tfidf = tfidf_vectorizer.transform([summary_input])\n",
    "\n",
    "    # Calculate cosine similarities\n",
    "    cosine_similarities = linear_kernel(summary_tfidf, tfidf_matrix).flatten()\n",
    "\n",
    "    # Create a list of (document_index, cosine_similarity_score) tuples\n",
    "    document_scores = [(i, score) for i, score in enumerate(cosine_similarities)]\n",
    "\n",
    "    # Sort documents by cosine similarity in descending order\n",
    "    ranked_documents = sorted(document_scores, key=lambda x: x[1], reverse=True)\n",
    "\n",
    "    st.header(\"Ranked Documents:\")\n",
    "    for i, (document_index, score) in enumerate(ranked_documents[:10]):\n",
    "        st.write(f\"Rank {i + 1}: Document {document_index}, Similarity Score: {score:.4f}\")\n",
    "\n",
    "    # Get the index of the document with the highest score\n",
    "    highest_score_index = ranked_documents[0][0]\n",
    "\n",
    "    # Display the content of the highest-ranked document\n",
    "    st.header(\"Content of the Highest-Ranked Document:\")\n",
    "    st.text(articles[highest_score_index])\n",
    "\n",
    "    # Extract and display keywords from the highest-ranked document\n",
    "    document_text = articles[highest_score_index]\n",
    "    \n",
    "    # Load the spaCy language model\n",
    "    nlp = spacy.load(\"en_core_web_sm\")\n",
    "\n",
    "    # Function to extract and highlight keywords\n",
    "    def extract_and_highlight_keywords(document_text):\n",
    "        # Process the document text with spaCy\n",
    "        doc = nlp(document_text)\n",
    "\n",
    "        # Extract keywords (in this example, we're using nouns as keywords)\n",
    "        keywords = [token.text for token in doc if token.pos_ == \"NOUN\"]\n",
    "\n",
    "        return keywords\n",
    "\n",
    "    # Extract and display keywords\n",
    "    extracted_keywords = extract_and_highlight_keywords(document_text)\n",
    "    st.header(\"Keywords from the Highest-Ranked Document:\")\n",
    "    st.text(extracted_keywords)"
   ]
  }
 ],
 "metadata": {
  "kernelspec": {
   "display_name": "base",
   "language": "python",
   "name": "python3"
  },
  "language_info": {
   "codemirror_mode": {
    "name": "ipython",
    "version": 3
   },
   "file_extension": ".py",
   "mimetype": "text/x-python",
   "name": "python",
   "nbconvert_exporter": "python",
   "pygments_lexer": "ipython3",
   "version": "3.9.13"
  }
 },
 "nbformat": 4,
 "nbformat_minor": 2
}
