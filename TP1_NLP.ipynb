{
  "nbformat": 4,
  "nbformat_minor": 0,
  "metadata": {
    "colab": {
      "provenance": []
    },
    "kernelspec": {
      "name": "python3",
      "display_name": "Python 3"
    },
    "language_info": {
      "name": "python"
    }
  },
  "cells": [
    {
      "cell_type": "markdown",
      "source": [
        "######Eléonor KIOULOU"
      ],
      "metadata": {
        "id": "nT4_prgaZbd8"
      }
    },
    {
      "cell_type": "markdown",
      "source": [
        "#TP1_NLP"
      ],
      "metadata": {
        "id": "t1v2buPOLBL2"
      }
    },
    {
      "cell_type": "markdown",
      "source": [
        "##Tokenization"
      ],
      "metadata": {
        "id": "7In0TNpHPTrg"
      }
    },
    {
      "cell_type": "code",
      "source": [
        "import nltk"
      ],
      "metadata": {
        "id": "5YOULCqfPU0e"
      },
      "execution_count": 17,
      "outputs": []
    },
    {
      "cell_type": "code",
      "source": [
        "nltk.download('punkt')"
      ],
      "metadata": {
        "colab": {
          "base_uri": "https://localhost:8080/"
        },
        "id": "sYPB-IhqPf59",
        "outputId": "b4632ea1-e1c8-4913-f8ef-4d5e6be55d37"
      },
      "execution_count": 18,
      "outputs": [
        {
          "output_type": "stream",
          "name": "stderr",
          "text": [
            "[nltk_data] Downloading package punkt to /root/nltk_data...\n",
            "[nltk_data]   Package punkt is already up-to-date!\n"
          ]
        },
        {
          "output_type": "execute_result",
          "data": {
            "text/plain": [
              "True"
            ]
          },
          "metadata": {},
          "execution_count": 18
        }
      ]
    },
    {
      "cell_type": "code",
      "source": [
        "nltk.__version__"
      ],
      "metadata": {
        "colab": {
          "base_uri": "https://localhost:8080/",
          "height": 35
        },
        "id": "f0oJUityPlUu",
        "outputId": "4e67daa8-657c-48ff-a06b-dcdbf0d68126"
      },
      "execution_count": 19,
      "outputs": [
        {
          "output_type": "execute_result",
          "data": {
            "text/plain": [
              "'3.8.1'"
            ],
            "application/vnd.google.colaboratory.intrinsic+json": {
              "type": "string"
            }
          },
          "metadata": {},
          "execution_count": 19
        }
      ]
    },
    {
      "cell_type": "markdown",
      "source": [
        "###Tokenization of text into sentences"
      ],
      "metadata": {
        "id": "iS6OUSc_DNXU"
      }
    },
    {
      "cell_type": "code",
      "source": [
        "french_tokenizer=nltk.data.load('tokenizers/punkt/french.pickle')\n",
        "text=\" Hello everyone. Hope all are fine and doing well. Hope you find the book interesting\"\n",
        "french_tokenizer.tokenize(text)"
      ],
      "metadata": {
        "colab": {
          "base_uri": "https://localhost:8080/"
        },
        "id": "m3n1RkKCP0ZA",
        "outputId": "c627f1cc-0a27-44c6-b838-bea2acf01e5b"
      },
      "execution_count": 20,
      "outputs": [
        {
          "output_type": "execute_result",
          "data": {
            "text/plain": [
              "[' Hello everyone.',\n",
              " 'Hope all are fine and doing well.',\n",
              " 'Hope you find the book interesting']"
            ]
          },
          "metadata": {},
          "execution_count": 20
        }
      ]
    },
    {
      "cell_type": "markdown",
      "source": [
        "###Tokenization of text in other languages"
      ],
      "metadata": {
        "id": "sjTp1pfpDk9T"
      }
    },
    {
      "cell_type": "code",
      "source": [
        "french_tokenizer.tokenize(\"Deux agressions en quelques jours, voilà ce qui a motivé hier matin le débrayage collège franco-britanniquedeLevallois-Perret. Deux agressions en quelques jours,voilà ce qui a motivé hier matin le débrayage Levallois. L'équipe pédagogique de ce collège de 750 élèves avait déjà été choquée par l'agression, janvier , d'un professeur d'histoire. L'équipe pédagogique de ce collège de 750 élèves avait déjà été choquée par l'agression, mercredi , d'un professeur d'histoire\")"
      ],
      "metadata": {
        "colab": {
          "base_uri": "https://localhost:8080/"
        },
        "id": "PzGPud0zSYmp",
        "outputId": "fb4e1acf-3733-41c6-ce6b-ce671c51326c"
      },
      "execution_count": 21,
      "outputs": [
        {
          "output_type": "execute_result",
          "data": {
            "text/plain": [
              "['Deux agressions en quelques jours, voilà ce qui a motivé hier matin le débrayage collège franco-britanniquedeLevallois-Perret.',\n",
              " 'Deux agressions en quelques jours,voilà ce qui a motivé hier matin le débrayage Levallois.',\n",
              " \"L'équipe pédagogique de ce collège de 750 élèves avait déjà été choquée par l'agression, janvier , d'un professeur d'histoire.\",\n",
              " \"L'équipe pédagogique de ce collège de 750 élèves avait déjà été choquée par l'agression, mercredi , d'un professeur d'histoire\"]"
            ]
          },
          "metadata": {},
          "execution_count": 21
        }
      ]
    },
    {
      "cell_type": "markdown",
      "source": [
        "###Tokenization of sentences into words"
      ],
      "metadata": {
        "id": "F6Cy7CeiD2oI"
      }
    },
    {
      "cell_type": "code",
      "source": [
        "from nltk.tokenize import TreebankWordTokenizer\n",
        "from nltk.tokenize import WordPunctTokenizer"
      ],
      "metadata": {
        "id": "8oDgyQ8_EDcx"
      },
      "execution_count": 23,
      "outputs": []
    },
    {
      "cell_type": "code",
      "source": [
        "# TreebankWordTokenizer\n",
        "tokenizer = TreebankWordTokenizer()\n",
        "tokenizer.tokenize(\"Have a nice day. I hope you find the book interesting\")"
      ],
      "metadata": {
        "id": "-wdL1SJ7SM9A",
        "colab": {
          "base_uri": "https://localhost:8080/"
        },
        "outputId": "2fb6f7df-2ccc-4e8b-eead-01b33a9921bf"
      },
      "execution_count": 24,
      "outputs": [
        {
          "output_type": "execute_result",
          "data": {
            "text/plain": [
              "['Have',\n",
              " 'a',\n",
              " 'nice',\n",
              " 'day.',\n",
              " 'I',\n",
              " 'hope',\n",
              " 'you',\n",
              " 'find',\n",
              " 'the',\n",
              " 'book',\n",
              " 'interesting']"
            ]
          },
          "metadata": {},
          "execution_count": 24
        }
      ]
    },
    {
      "cell_type": "code",
      "source": [
        "tokenizer.tokenize(\"Don't hesitate to ask questions\")"
      ],
      "metadata": {
        "colab": {
          "base_uri": "https://localhost:8080/"
        },
        "id": "iQrM8W-vTd1a",
        "outputId": "23d85d85-8881-486d-ac06-3b1b97707d99"
      },
      "execution_count": 25,
      "outputs": [
        {
          "output_type": "execute_result",
          "data": {
            "text/plain": [
              "['Do', \"n't\", 'hesitate', 'to', 'ask', 'questions']"
            ]
          },
          "metadata": {},
          "execution_count": 25
        }
      ]
    },
    {
      "cell_type": "code",
      "execution_count": 26,
      "metadata": {
        "id": "4TVPJWuMK6aM",
        "colab": {
          "base_uri": "https://localhost:8080/"
        },
        "outputId": "ea5ec40e-6736-4b7b-855a-ce67f792c3b1"
      },
      "outputs": [
        {
          "output_type": "execute_result",
          "data": {
            "text/plain": [
              "['Don', \"'\", 't', 'hesitate', 'to', 'ask', 'questions']"
            ]
          },
          "metadata": {},
          "execution_count": 26
        }
      ],
      "source": [
        "# WordPunctTokenizer\n",
        "tokenizer = WordPunctTokenizer()\n",
        "tokenizer.tokenize(\"Don't hesitate to ask questions\")"
      ]
    },
    {
      "cell_type": "markdown",
      "source": [
        "###Tokenization using regular expressions(regex)"
      ],
      "metadata": {
        "id": "SwzvoiMLIGf3"
      }
    },
    {
      "cell_type": "code",
      "source": [
        "from nltk.tokenize import RegexpTokenizer\n",
        "from nltk.tokenize import regexp_tokenize"
      ],
      "metadata": {
        "id": "CGTWLUw2IPD5"
      },
      "execution_count": 29,
      "outputs": []
    },
    {
      "cell_type": "code",
      "source": [
        "# RegexpTokenizer\n",
        "tokenizer = RegexpTokenizer(\"[\\w']+\")\n",
        "tokenizer.tokenize(\"Don't hesitate to ask questions\")"
      ],
      "metadata": {
        "colab": {
          "base_uri": "https://localhost:8080/"
        },
        "id": "itY1BuSAIHoI",
        "outputId": "a1cd95db-ed45-41f3-cc9f-080cf799db33"
      },
      "execution_count": 28,
      "outputs": [
        {
          "output_type": "execute_result",
          "data": {
            "text/plain": [
              "[\"Don't\", 'hesitate', 'to', 'ask', 'questions']"
            ]
          },
          "metadata": {},
          "execution_count": 28
        }
      ]
    },
    {
      "cell_type": "code",
      "source": [
        "# regexp_tokenize\n",
        "regexp_tokenize(\"Don't hesitate to ask questions\", pattern=\"\\w+|\\$[\\d\\.]+|\\S+\")"
      ],
      "metadata": {
        "colab": {
          "base_uri": "https://localhost:8080/"
        },
        "id": "WIGdHCZpIXPq",
        "outputId": "2931c71a-1707-45fc-a996-150f3607b21b"
      },
      "execution_count": 32,
      "outputs": [
        {
          "output_type": "execute_result",
          "data": {
            "text/plain": [
              "['Don', \"'t\", 'hesitate', 'to', 'ask', 'questions']"
            ]
          },
          "metadata": {},
          "execution_count": 32
        }
      ]
    },
    {
      "cell_type": "markdown",
      "source": [
        "###Conversion into lowercase and uppercase"
      ],
      "metadata": {
        "id": "gG4aYucRJLvc"
      }
    },
    {
      "cell_type": "code",
      "source": [
        "text = 'HARdWork IS KEy to SUCCESS'\n",
        "\n",
        "# Conversion to lowercase\n",
        "lower_text = text.lower()\n",
        "print(\"Lower : \", lower_text)\n",
        "\n",
        "# Conversion to uppercase\n",
        "upper_text = text.upper()\n",
        "print(\"Upper : \", upper_text)"
      ],
      "metadata": {
        "colab": {
          "base_uri": "https://localhost:8080/"
        },
        "id": "tDGEglXeJM6B",
        "outputId": "7424e1ac-d562-4601-9104-795cd3c4dd3d"
      },
      "execution_count": 35,
      "outputs": [
        {
          "output_type": "stream",
          "name": "stdout",
          "text": [
            "Lower :  hardwork is key to success\n",
            "Upper :  HARDWORK IS KEY TO SUCCESS\n"
          ]
        }
      ]
    },
    {
      "cell_type": "markdown",
      "source": [
        "###Dealing with stop words"
      ],
      "metadata": {
        "id": "xGW2AKaQKEDJ"
      }
    },
    {
      "cell_type": "code",
      "source": [
        "nltk.download('stopwords')\n",
        "from nltk.corpus import stopwords"
      ],
      "metadata": {
        "colab": {
          "base_uri": "https://localhost:8080/"
        },
        "id": "TtmjGN4bJnJQ",
        "outputId": "eef87270-00d4-4f21-d16e-34f43dec4410"
      },
      "execution_count": 39,
      "outputs": [
        {
          "output_type": "stream",
          "name": "stderr",
          "text": [
            "[nltk_data] Downloading package stopwords to /root/nltk_data...\n",
            "[nltk_data]   Package stopwords is already up-to-date!\n"
          ]
        }
      ]
    },
    {
      "cell_type": "code",
      "source": [
        "# Load the list of stop words in English\n",
        "stops = set(stopwords.words('english'))\n",
        "\n",
        "# List of words to process\n",
        "words = [\"Don't\", 'hesitate', 'to', 'ask', 'questions']\n",
        "\n",
        "# Remove stop words\n",
        "[word for word in words if word not in stops]"
      ],
      "metadata": {
        "colab": {
          "base_uri": "https://localhost:8080/"
        },
        "id": "_8WQYKF6KDGH",
        "outputId": "e4e39e3d-c426-420e-a1a2-6f97b2851b4b"
      },
      "execution_count": 43,
      "outputs": [
        {
          "output_type": "execute_result",
          "data": {
            "text/plain": [
              "[\"Don't\", 'hesitate', 'ask', 'questions']"
            ]
          },
          "metadata": {},
          "execution_count": 43
        }
      ]
    },
    {
      "cell_type": "code",
      "source": [
        "print(stopwords.fileids())"
      ],
      "metadata": {
        "colab": {
          "base_uri": "https://localhost:8080/"
        },
        "id": "GSHssIg5PxFa",
        "outputId": "f4399f28-366d-40a3-be5b-0f960f685c6a"
      },
      "execution_count": 44,
      "outputs": [
        {
          "output_type": "stream",
          "name": "stdout",
          "text": [
            "['arabic', 'azerbaijani', 'basque', 'bengali', 'catalan', 'chinese', 'danish', 'dutch', 'english', 'finnish', 'french', 'german', 'greek', 'hebrew', 'hinglish', 'hungarian', 'indonesian', 'italian', 'kazakh', 'nepali', 'norwegian', 'portuguese', 'romanian', 'russian', 'slovene', 'spanish', 'swedish', 'tajik', 'turkish']\n"
          ]
        }
      ]
    },
    {
      "cell_type": "markdown",
      "source": [
        "##Example of the replacement of a text with another text"
      ],
      "metadata": {
        "id": "2MlslmihTG__"
      }
    },
    {
      "cell_type": "code",
      "source": [
        "import re\n",
        "\n",
        "replacement_patterns = [\n",
        "  (r'won\\'t', 'will not'),\n",
        "\t(r'can\\'t', 'cannot'),\n",
        "\t(r'i\\'m', 'i am'),\n",
        "\t(r'ain\\'t', 'is not'),\n",
        "\t(r'(\\w+)\\'ll', '\\g<1> will'),\n",
        "\t(r'(\\w+)n\\'t', '\\g<1> not'),\n",
        "\t(r'(\\w+)\\'ve', '\\g<1> have'),\n",
        "\t(r'(\\w+)\\'s', '\\g<1> is'),\n",
        "\t(r'(\\w+)\\'re', '\\g<1> are'),\n",
        "\t(r'(\\w+)\\'d', '\\g<1> would'),\n",
        "]\n",
        "\n",
        "class RegexpReplacer(object):\n",
        "   def __init__(self, patterns=replacement_patterns):\n",
        "      self.patterns = [(re.compile(regex), repl) for (regex, repl) in patterns]\n",
        "\n",
        "   def replace(self, text):\n",
        "      s = text\n",
        "      for (pattern, repl) in self.patterns:\n",
        "           s = re.sub(pattern, repl, s)\n",
        "      return s"
      ],
      "metadata": {
        "colab": {
          "base_uri": "https://localhost:8080/",
          "height": 35
        },
        "id": "XAGXRs40P3hG",
        "outputId": "ba8681f0-ae2a-474a-93b3-c802b132e4e6"
      },
      "execution_count": 54,
      "outputs": [
        {
          "output_type": "execute_result",
          "data": {
            "text/plain": [
              "'Do not hesitate to ask questions.'"
            ],
            "application/vnd.google.colaboratory.intrinsic+json": {
              "type": "string"
            }
          },
          "metadata": {},
          "execution_count": 54
        }
      ]
    },
    {
      "cell_type": "code",
      "source": [
        "replacer=RegexpReplacer()\n",
        "print(replacer.replace(\"Don't hesitate to ask questions.\"))\n",
        "print(replacer.replace(\"She must've gone to the market but she didn't go.\"))"
      ],
      "metadata": {
        "colab": {
          "base_uri": "https://localhost:8080/"
        },
        "id": "tKRcRJSLTltP",
        "outputId": "e8664904-2f7f-4bd3-dc60-a5897f39f0c1"
      },
      "execution_count": 56,
      "outputs": [
        {
          "output_type": "stream",
          "name": "stdout",
          "text": [
            "Do not hesitate to ask questions.\n",
            "She must have gone to the market but she did not go.\n"
          ]
        }
      ]
    },
    {
      "cell_type": "code",
      "source": [
        "re.sub(\"Don't\", \"Do not\", \"Don't hesitate to ask questions\")"
      ],
      "metadata": {
        "colab": {
          "base_uri": "https://localhost:8080/",
          "height": 35
        },
        "id": "XuJYuPbjVOdI",
        "outputId": "95007717-f662-43af-da64-fe5c0a45ec7a"
      },
      "execution_count": 57,
      "outputs": [
        {
          "output_type": "execute_result",
          "data": {
            "text/plain": [
              "'Do not hesitate to ask questions'"
            ],
            "application/vnd.google.colaboratory.intrinsic+json": {
              "type": "string"
            }
          },
          "metadata": {},
          "execution_count": 57
        }
      ]
    },
    {
      "cell_type": "markdown",
      "source": [
        "##Lemmatization"
      ],
      "metadata": {
        "id": "WapNQCrEU_se"
      }
    },
    {
      "cell_type": "markdown",
      "source": [
        "###WordNetLemmatizer"
      ],
      "metadata": {
        "id": "hj1NPyh3XsCi"
      }
    },
    {
      "cell_type": "code",
      "source": [
        "nltk.download(\"wordnet\")\n",
        "from nltk.stem import WordNetLemmatizer"
      ],
      "metadata": {
        "colab": {
          "base_uri": "https://localhost:8080/"
        },
        "id": "9tXMK78EUUXw",
        "outputId": "6d885fc8-db77-4dc0-afc7-00dd8c01323f"
      },
      "execution_count": 64,
      "outputs": [
        {
          "output_type": "stream",
          "name": "stderr",
          "text": [
            "[nltk_data] Downloading package wordnet to /root/nltk_data...\n"
          ]
        }
      ]
    },
    {
      "cell_type": "code",
      "source": [
        "lemmatizer_output = WordNetLemmatizer()\n",
        "lemmatizer_output.lemmatize('working')"
      ],
      "metadata": {
        "colab": {
          "base_uri": "https://localhost:8080/",
          "height": 35
        },
        "id": "FQwoGawsV7Oq",
        "outputId": "e1d984de-9f87-4bfb-8469-d73d3f7dd9fd"
      },
      "execution_count": 66,
      "outputs": [
        {
          "output_type": "execute_result",
          "data": {
            "text/plain": [
              "'working'"
            ],
            "application/vnd.google.colaboratory.intrinsic+json": {
              "type": "string"
            }
          },
          "metadata": {},
          "execution_count": 66
        }
      ]
    },
    {
      "cell_type": "code",
      "source": [
        "lemmatizer_output.lemmatize('working', pos='v')"
      ],
      "metadata": {
        "colab": {
          "base_uri": "https://localhost:8080/",
          "height": 35
        },
        "id": "ssQKlKZOWByg",
        "outputId": "ef8b50c9-925c-4eb5-b1b9-0fc111f50542"
      },
      "execution_count": 67,
      "outputs": [
        {
          "output_type": "execute_result",
          "data": {
            "text/plain": [
              "'work'"
            ],
            "application/vnd.google.colaboratory.intrinsic+json": {
              "type": "string"
            }
          },
          "metadata": {},
          "execution_count": 67
        }
      ]
    },
    {
      "cell_type": "code",
      "source": [
        "lemmatizer_output.lemmatize('works')"
      ],
      "metadata": {
        "colab": {
          "base_uri": "https://localhost:8080/",
          "height": 35
        },
        "id": "iuFcIRklW42z",
        "outputId": "63f9d772-7ab8-4292-909d-d3640e4a32db"
      },
      "execution_count": 68,
      "outputs": [
        {
          "output_type": "execute_result",
          "data": {
            "text/plain": [
              "'work'"
            ],
            "application/vnd.google.colaboratory.intrinsic+json": {
              "type": "string"
            }
          },
          "metadata": {},
          "execution_count": 68
        }
      ]
    },
    {
      "cell_type": "markdown",
      "source": [
        "###PorterStemmer"
      ],
      "metadata": {
        "id": "rLek2Y_RXmFt"
      }
    },
    {
      "cell_type": "code",
      "source": [
        "from nltk.stem import PorterStemmer"
      ],
      "metadata": {
        "id": "UzIhXTCkW6uF"
      },
      "execution_count": 70,
      "outputs": []
    },
    {
      "cell_type": "code",
      "source": [
        "lemmatizer = WordNetLemmatizer()\n",
        "stemmer = PorterStemmer()"
      ],
      "metadata": {
        "id": "WqhCp8MHXllK"
      },
      "execution_count": 71,
      "outputs": []
    },
    {
      "cell_type": "code",
      "source": [
        "# Lemmatization\n",
        "lemmatizer.lemmatize(\"happiness\")"
      ],
      "metadata": {
        "colab": {
          "base_uri": "https://localhost:8080/",
          "height": 35
        },
        "id": "sNoIumTwXy8W",
        "outputId": "3836625c-439d-4f7e-ce58-081a5a8b71ad"
      },
      "execution_count": 74,
      "outputs": [
        {
          "output_type": "execute_result",
          "data": {
            "text/plain": [
              "'happiness'"
            ],
            "application/vnd.google.colaboratory.intrinsic+json": {
              "type": "string"
            }
          },
          "metadata": {},
          "execution_count": 74
        }
      ]
    },
    {
      "cell_type": "code",
      "source": [
        "# Stemming\n",
        "stemmer.stem(\"happiness\")"
      ],
      "metadata": {
        "colab": {
          "base_uri": "https://localhost:8080/",
          "height": 35
        },
        "id": "vkRol0bhX9OQ",
        "outputId": "152b78e5-9c12-4adc-cf1d-018506330d67"
      },
      "execution_count": 75,
      "outputs": [
        {
          "output_type": "execute_result",
          "data": {
            "text/plain": [
              "'happi'"
            ],
            "application/vnd.google.colaboratory.intrinsic+json": {
              "type": "string"
            }
          },
          "metadata": {},
          "execution_count": 75
        }
      ]
    },
    {
      "cell_type": "markdown",
      "source": [
        "##Similarity measure"
      ],
      "metadata": {
        "id": "tUqF3wMpYSBU"
      }
    },
    {
      "cell_type": "markdown",
      "source": [
        "###Edit Distance"
      ],
      "metadata": {
        "id": "a6dxvIZfYneH"
      }
    },
    {
      "cell_type": "code",
      "source": [
        "from nltk.metrics import edit_distance"
      ],
      "metadata": {
        "id": "c_nitgEOYFiB"
      },
      "execution_count": 76,
      "outputs": []
    },
    {
      "cell_type": "code",
      "source": [
        "edit_distance(\"relate\", \"relation\")\n"
      ],
      "metadata": {
        "colab": {
          "base_uri": "https://localhost:8080/"
        },
        "id": "by47gymQYaci",
        "outputId": "a4251b57-b4bc-4f24-8e25-c8cb88431c8b"
      },
      "execution_count": 77,
      "outputs": [
        {
          "output_type": "execute_result",
          "data": {
            "text/plain": [
              "3"
            ]
          },
          "metadata": {},
          "execution_count": 77
        }
      ]
    },
    {
      "cell_type": "code",
      "source": [
        "edit_distance(\"suggestion\", \"calculation\")"
      ],
      "metadata": {
        "colab": {
          "base_uri": "https://localhost:8080/"
        },
        "id": "Va3MMpDiYeHZ",
        "outputId": "8e710ef2-8fc5-44a3-e9f7-4f8d592ec445"
      },
      "execution_count": 78,
      "outputs": [
        {
          "output_type": "execute_result",
          "data": {
            "text/plain": [
              "7"
            ]
          },
          "metadata": {},
          "execution_count": 78
        }
      ]
    },
    {
      "cell_type": "markdown",
      "source": [
        "## Jaccard's Coefficient"
      ],
      "metadata": {
        "id": "wgQ8L21SYpiD"
      }
    },
    {
      "cell_type": "code",
      "source": [
        "from nltk.metrics import jaccard_distance"
      ],
      "metadata": {
        "id": "V9i7gz3ZYghg"
      },
      "execution_count": 80,
      "outputs": []
    },
    {
      "cell_type": "code",
      "source": [
        "X = set([10, 20, 30, 40])\n",
        "Y = set([20, 30, 60])\n",
        "jaccard_coefficient = 1 - jaccard_distance(X, Y)\n",
        "print(jaccard_coefficient)"
      ],
      "metadata": {
        "colab": {
          "base_uri": "https://localhost:8080/"
        },
        "id": "tHCvyXHEYyw9",
        "outputId": "b0f80f94-f412-45e4-dca3-801a15cadc30"
      },
      "execution_count": 81,
      "outputs": [
        {
          "output_type": "stream",
          "name": "stdout",
          "text": [
            "0.4\n"
          ]
        }
      ]
    }
  ]
}